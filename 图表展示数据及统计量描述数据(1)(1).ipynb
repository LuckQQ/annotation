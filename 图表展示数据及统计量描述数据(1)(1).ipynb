{
 "cells": [
  {
   "cell_type": "code",
   "execution_count": null,
   "metadata": {},
   "outputs": [],
   "source": [
    "%matplotlib inline\n",
    "from pandas import Series, DataFrame\n",
    "import pandas as pd\n",
    "import numpy as np\n",
    "import matplotlib.pyplot as plt\n",
    "import seaborn as sns\n",
    "\n",
    "#以上先不用改变，也是一般数据分析必须引入的包和习惯的简写\n",
    "\n",
    "#print(plt.style.available)  #查看可用风格\n",
    "plt.style.use('ggplot')  #风格采用ggplot\n",
    "plt.rcParams['font.sans-serif'] = ['SimHei']  # 用来正常显示中文标签\n",
    "plt.rcParams['axes.unicode_minus'] = False  # 用来正常显示负号"
   ]
  },
  {
   "cell_type": "markdown",
   "metadata": {},
   "source": [
    "## 数据\n",
    "- 定性数据（非数值型数据）：定类数据（蜜蜂、苍蝇、蜻蜓）、定序数据（各分类间有一定顺序如：优，良，中，差）\n",
    "- 定量数据（数值型数据）：连续、离散"
   ]
  },
  {
   "cell_type": "markdown",
   "metadata": {},
   "source": [
    "## 定性数据的可视化（最基本图形）"
   ]
  },
  {
   "cell_type": "markdown",
   "metadata": {},
   "source": [
    "这里主要对分类数据进行展示。如颜色、性别、词汇、情感倾向等。"
   ]
  },
  {
   "cell_type": "markdown",
   "metadata": {},
   "source": [
    "1. **柱状图（条形图）**-----展示数据分布"
   ]
  },
  {
   "cell_type": "code",
   "execution_count": null,
   "metadata": {},
   "outputs": [],
   "source": [
    "# 每周工作时长\n",
    "#pandas 的Series对象\n",
    "s = Series([100, 120, 90, 90, 80, 10, 10], index = ['周一', '周二', '周三', '周四', '周五', '周六', '周日', ])\n",
    "s"
   ]
  },
  {
   "cell_type": "code",
   "execution_count": null,
   "metadata": {},
   "outputs": [],
   "source": [
    "s.plot(kind = 'bar')"
   ]
  },
  {
   "cell_type": "code",
   "execution_count": null,
   "metadata": {},
   "outputs": [],
   "source": [
    "s.plot(kind = 'barh',figsize=(8,6))"
   ]
  },
  {
   "cell_type": "code",
   "execution_count": null,
   "metadata": {},
   "outputs": [],
   "source": [
    "#pandas 的DataFrame对象\n",
    "data = {'男':[100, 120, 90, 90, 80, 10, 10], '女':[80, 100, 80, 80, 80, 50, 50] }\n",
    "df = DataFrame(data, index = ['周一', '周二', '周三', '周四', '周五', '周六', '周日', ])\n",
    "df"
   ]
  },
  {
   "cell_type": "code",
   "execution_count": null,
   "metadata": {},
   "outputs": [],
   "source": [
    "#也可以直接从excel表格里面读入数据\n",
    "df_ex = pd.read_excel('https://github.com/liupengyuan/python_tutorial/blob/master/chapter4/countrys_freq.xlsx?raw=true', index_col = 0)\n",
    "\n",
    "#可自行下载该文件或其他excel文件到目录下，用下面的方法来读入一个dataframe对象\n",
    "#df_ex = pd.read_excel('countrys_freq.xlsx', index_col = 0)   #index_col参数为指定某列为索引\n",
    "'''\n",
    "在某个目录下打开jupyter notebook的方式是：\n",
    "1、在window中打开该目录\n",
    "2、按住shift键的同时，在该目录内的空白处，点击鼠标右键\n",
    "3、在弹出的右键菜单中选择并单击：在此处打开命令行/powershell窗口\n",
    "4、在弹出的黑色对话框中，输入jupyter notebook并回车\n",
    "'''\n"
   ]
  },
  {
   "cell_type": "code",
   "execution_count": null,
   "metadata": {},
   "outputs": [],
   "source": [
    "df.plot(kind = 'bar')"
   ]
  },
  {
   "cell_type": "code",
   "execution_count": null,
   "metadata": {},
   "outputs": [],
   "source": [
    "df.plot(kind = 'barh')"
   ]
  },
  {
   "cell_type": "code",
   "execution_count": null,
   "metadata": {},
   "outputs": [],
   "source": [
    "# 帕累托图\n",
    "# 按值排序\n",
    "s = s.sort_values(ascending=False)"
   ]
  },
  {
   "cell_type": "code",
   "execution_count": null,
   "metadata": {},
   "outputs": [],
   "source": [
    "s.plot(kind = 'bar')"
   ]
  },
  {
   "cell_type": "code",
   "execution_count": null,
   "metadata": {},
   "outputs": [],
   "source": [
    "df = df.sort_values(by = '男', ascending=False)\n",
    "df"
   ]
  },
  {
   "cell_type": "code",
   "execution_count": null,
   "metadata": {},
   "outputs": [],
   "source": [
    "df.plot(kind = 'bar')"
   ]
  },
  {
   "cell_type": "code",
   "execution_count": null,
   "metadata": {},
   "outputs": [],
   "source": [
    "# 条形堆叠图 （也可利用各部分的百分比来绘图）\n",
    "df.plot(kind = 'bar', stacked=True)"
   ]
  },
  {
   "cell_type": "markdown",
   "metadata": {},
   "source": [
    "2. **饼图**----占比分布  \n",
    " 用圆形及圆内扇形的角度来表示数值大小的图形，主要用于表示一个样本(或总体)中各组成部分的数据占全部数据的比例\u000b",
    "用于研究结构问题"
   ]
  },
  {
   "cell_type": "code",
   "execution_count": null,
   "metadata": {},
   "outputs": [],
   "source": [
    "#s.name = ''\n",
    "s.plot(kind = 'pie', autopct = '%2.2f',figsize = (6,6))"
   ]
  },
  {
   "cell_type": "code",
   "execution_count": null,
   "metadata": {},
   "outputs": [],
   "source": [
    "df.plot(kind = 'pie', autopct = '%2.2f', subplots=True, legend=False, figsize=(8,8))"
   ]
  },
  {
   "cell_type": "markdown",
   "metadata": {},
   "source": [
    "3. **环形图**(多个环可以绘制多个数据系列，可用于结构比较研究)"
   ]
  },
  {
   "cell_type": "code",
   "execution_count": null,
   "metadata": {},
   "outputs": [],
   "source": [
    "s.plot(kind = 'pie', autopct = '%2.2f', wedgeprops=dict(width=0.6,edgecolor='w')) #wedgeprops设置边界属性"
   ]
  },
  {
   "cell_type": "code",
   "execution_count": null,
   "metadata": {},
   "outputs": [],
   "source": [
    "df['男'].plot(kind = 'pie',  wedgeprops=dict(width=0.6,edgecolor='w'), subplots=True, figsize=(8,8))\n",
    "df['女'].plot(kind = 'pie',  wedgeprops=dict(width=0.3,edgecolor='w'), labels = None, figsize=(8,8))#labels去掉重复label"
   ]
  },
  {
   "cell_type": "markdown",
   "metadata": {},
   "source": [
    "## 定量数据的可视化（最基本图形）"
   ]
  },
  {
   "cell_type": "markdown",
   "metadata": {},
   "source": [
    "1. **折线图**----趋势变化"
   ]
  },
  {
   "cell_type": "code",
   "execution_count": null,
   "metadata": {},
   "outputs": [],
   "source": [
    "# 各年度某词词频\n",
    "words_freq_1 = [12345000,23456000,22333000,45632000,11144000,65433000,44444000,55555000,34522000,55566000]\n",
    "years = [2010,2011,2012,2013,2014,2015,2016,2017,2018,2019]\n",
    "ts = Series(words_freq_1, index = years)\n",
    "ts"
   ]
  },
  {
   "cell_type": "code",
   "execution_count": null,
   "metadata": {},
   "outputs": [],
   "source": [
    "ts.plot()"
   ]
  },
  {
   "cell_type": "markdown",
   "metadata": {},
   "source": [
    "**样本的累计频数**"
   ]
  },
  {
   "cell_type": "code",
   "execution_count": null,
   "metadata": {},
   "outputs": [],
   "source": [
    "ts.cumsum().plot()"
   ]
  },
  {
   "cell_type": "code",
   "execution_count": null,
   "metadata": {},
   "outputs": [],
   "source": [
    "words_freq_2 = [22345000,13456000,42333000,35632000,51144000,25433000,40444000,35555000,39522000,59566000]\n",
    "df = DataFrame({'喜欢': words_freq_1, '讨厌': words_freq_2}, index = years)\n",
    "df"
   ]
  },
  {
   "cell_type": "code",
   "execution_count": null,
   "metadata": {},
   "outputs": [],
   "source": [
    "df.plot()"
   ]
  },
  {
   "cell_type": "markdown",
   "metadata": {},
   "source": [
    "2. 折线堆叠图（也可利用各部分的百分比来绘图）"
   ]
  },
  {
   "cell_type": "code",
   "execution_count": null,
   "metadata": {},
   "outputs": [],
   "source": [
    "df.plot(kind = 'area')"
   ]
  },
  {
   "cell_type": "markdown",
   "metadata": {},
   "source": [
    "3. **直方图**----定量数据的柱状图（按等间距组分布，分组）  "
   ]
  },
  {
   "cell_type": "code",
   "execution_count": null,
   "metadata": {},
   "outputs": [],
   "source": [
    "#调用np中random模块的seed()方法，生成一个随机数种子，在这个种子下，每次第一次生成的随机数均相同。\n",
    "np.random.seed(4078)"
   ]
  },
  {
   "cell_type": "code",
   "execution_count": null,
   "metadata": {},
   "outputs": [],
   "source": [
    "#randn正态分布\n",
    "#date_range取时间序列\n",
    "ts = Series(np.random.randn(1000), index = pd.date_range(start='20190101',periods = 1000))\n",
    "ts.head(10)"
   ]
  },
  {
   "cell_type": "code",
   "execution_count": null,
   "metadata": {},
   "outputs": [],
   "source": [
    "ts.plot(kind = 'hist', bins = 20)\n",
    "#由于分组数据具有连续性，因此直方图各分组之间是连续的"
   ]
  },
  {
   "cell_type": "markdown",
   "metadata": {},
   "source": [
    "4. **核密度估计图**(Kernel Density Estimation, KDE)：采用平滑的峰值函数(“核函数”)来拟合观察到的数据点，从而对真实的概率分布曲线进行模拟。\n",
    "Pandas的plot()函数中，参数kind的值为kde时，即可绘制KDE图。"
   ]
  },
  {
   "cell_type": "code",
   "execution_count": null,
   "metadata": {},
   "outputs": [],
   "source": [
    "ts.plot(kind='kde')"
   ]
  },
  {
   "cell_type": "code",
   "execution_count": null,
   "metadata": {},
   "outputs": [],
   "source": [
    "#Seaborn中内置的distplot()函数，可以直接对Series对象绘制直方图及KDE图的合一图。\n",
    "sns.distplot(ts)"
   ]
  },
  {
   "cell_type": "code",
   "execution_count": null,
   "metadata": {},
   "outputs": [],
   "source": [
    "ts_2 = Series(np.random.randn(1000), index = pd.date_range(start='20190101',periods = 1000))+2\n",
    "tdf = DataFrame({'a':ts, 'b':ts_2})\n",
    "tdf.head()"
   ]
  },
  {
   "cell_type": "code",
   "execution_count": null,
   "metadata": {},
   "outputs": [],
   "source": [
    "tdf.plot(kind = 'hist', alpha = 0.8)"
   ]
  },
  {
   "cell_type": "code",
   "execution_count": null,
   "metadata": {},
   "outputs": [],
   "source": [
    "#堆叠\n",
    "tdf.plot(kind = 'hist', stacked = True)"
   ]
  },
  {
   "cell_type": "markdown",
   "metadata": {},
   "source": [
    "5. 散点图(变量之间的关系)\n",
    " - 展示变量之间的关系\n",
    " - 用横轴代表变量x，纵轴代表变量y，每组数据(xi ， yi)在坐标系中用一个点表示，n组数据在坐标系中形成的n个点称为散点，由坐标及其散点形成的图\n",
    " - 有2维、3维、矩阵等形式"
   ]
  },
  {
   "cell_type": "code",
   "execution_count": null,
   "metadata": {},
   "outputs": [],
   "source": [
    "ax = tdf.plot(kind = 'scatter', x = 'a', y = 'b',color = 'r')"
   ]
  },
  {
   "cell_type": "markdown",
   "metadata": {},
   "source": [
    "**雷达图**（radar）也称为蜘蛛图(spider chart)\n",
    "- 用每一条射线代表一个变量，多个变量的数据点连接成线，即围成一个区域，多个样本围成多个区域，就是雷达图\n",
    "- 可用于研究多个样本在多个变量上的相似程度\n"
   ]
  },
  {
   "cell_type": "code",
   "execution_count": null,
   "metadata": {},
   "outputs": [],
   "source": [
    "#先看下极坐标\n",
    "ax1 = plt.subplot(121, polar=True)\n",
    "ax2 = plt.subplot(122)\n",
    "theta=np.arange(0, 2*np.pi, 0.02)\n",
    "ax1.plot(theta, theta/6, '--', lw=2)\n",
    "ax2.plot(theta, theta/6, '--', lw=2)\n",
    "plt.show()"
   ]
  },
  {
   "cell_type": "code",
   "execution_count": null,
   "metadata": {},
   "outputs": [],
   "source": [
    "#标签\n",
    "labels = np.array(['A','B','C','D','E','F','G'])\n",
    "#数据\n",
    "data = np.array([20,30,50,70,30,80,90])\n",
    "\n",
    "angles = np.linspace(0, 2*np.pi, len(data), endpoint=False)\n",
    "angles = np.concatenate((angles, [angles[0]])) # 闭合，最后一个点回到0\n",
    "\n",
    "data = np.concatenate((data, [data[0]])) # 闭合 # 类似angles\n",
    "\n",
    "\n",
    "fig = plt.figure()\n",
    "#ax = fig.add_subplot(111, projection = 'polar') # projection = polar参数极坐标\n",
    "ax = fig.add_subplot(111,  polar=True) # polar参数极坐标\n",
    "\n",
    "ax.plot(angles, data, 'bo-', linewidth=1)\n",
    "ax.set_thetagrids(angles * 180/np.pi, labels)  #显示网格线, labels\n",
    "ax.set_title(\"雷达图\")\n",
    "plt.show()"
   ]
  },
  {
   "cell_type": "markdown",
   "metadata": {},
   "source": [
    "## 用统计量描述数据及可视化（以下均为对样本进行计算）"
   ]
  },
  {
   "cell_type": "markdown",
   "metadata": {},
   "source": [
    "**总体**：包含所研究的全部个体(数据)的集合。\n",
    "\n",
    "**样本**：从总体中抽取的一部分元素的集合。\n",
    "\n",
    "**样本容量**：构成样本的元素的数量称为样本容量(size)。\n",
    "\n",
    "1. **水平度量**--衡量变量取值的大小"
   ]
  },
  {
   "cell_type": "markdown",
   "metadata": {},
   "source": [
    "**样本均值**   \n",
    "$\\widetilde x = \\frac{\\sum_{i=1}^{n}x_i}{n} $\n",
    "- 消除了观测值的随机波动\n",
    "- 容易受到极端值的影响"
   ]
  },
  {
   "cell_type": "code",
   "execution_count": null,
   "metadata": {},
   "outputs": [],
   "source": [
    "ts.mean()"
   ]
  },
  {
   "cell_type": "markdown",
   "metadata": {},
   "source": [
    "加权平均"
   ]
  },
  {
   "cell_type": "code",
   "execution_count": null,
   "metadata": {},
   "outputs": [],
   "source": [
    "weights = np.random.rand(1000)\n",
    "ts.values @ weights / ts.count()"
   ]
  },
  {
   "cell_type": "code",
   "execution_count": null,
   "metadata": {},
   "outputs": [],
   "source": [
    "# 最大值、最小值\n",
    "ts.max(), ts.min()"
   ]
  },
  {
   "cell_type": "markdown",
   "metadata": {},
   "source": [
    "**中位数**--中数是按顺序排列的一组数据中居于中间位置的数。在这组数据中，有一半的数据比他大，有一半的数据比他小。如果观察值有偶数个，通常取最中间的两个数值的平均数作为中位数。\n",
    "- 排序后位于中间位置的值\n",
    "- 不易受到极端值的影响"
   ]
  },
  {
   "cell_type": "code",
   "execution_count": null,
   "metadata": {},
   "outputs": [],
   "source": [
    "ts.median()"
   ]
  },
  {
   "cell_type": "markdown",
   "metadata": {},
   "source": [
    "**分位数**---是将总体的全部数据按大小顺序排列后，处于各等分位置的变量值。\n",
    "\n",
    "- 将全部数据分成相等的两部分，它就是中位数；如果分成四等分，就是四分位数；八等分就是八分位数。\n",
    "- 四分位数也称为四分位点，它是将全部数据分成相等的四部分，其中每部分包括25%的数据，处在各分位点的数值就是四分位数。\n",
    "- 四分位数有三个，第一个四分位数就是通常所说的四分位数，称为下四分位数，第二个四分位数就是中位数，第三个四分位数称为上四分位数，分别用Q1、Q2、Q3表示。"
   ]
  },
  {
   "cell_type": "markdown",
   "metadata": {},
   "source": [
    "**四分位数**\n",
    "- 排序后位于25%，50%，75%位置的值\n",
    "- 不易受到极端值的影响"
   ]
  },
  {
   "cell_type": "code",
   "execution_count": null,
   "metadata": {},
   "outputs": [],
   "source": [
    "ts.quantile([0.25, 0.5, 0.75])"
   ]
  },
  {
   "cell_type": "markdown",
   "metadata": {},
   "source": [
    "**众数**\n",
    "- 一组数据中出现次数最多的数\n",
    "- 不易受到极端值的影响\n",
    "- 数据量大时使用\n",
    "- 一组数据可能有多个众数"
   ]
  },
  {
   "cell_type": "code",
   "execution_count": null,
   "metadata": {},
   "outputs": [],
   "source": [
    "Series([1,2,2,2,2,3,3,3,4,4,5,6,2,3,4,6,2,1,5,6,1]).mode()"
   ]
  },
  {
   "cell_type": "markdown",
   "metadata": {},
   "source": [
    "- 平均数:易受极端值影响.数据对称分布或接近对称分布时代表性较好\n",
    "- 中位数:不受极端值影响,数据分布偏斜程度较大时代表性接好\n",
    "- 众数:不受极端值影响,具有不惟一性,数据分布偏斜程度较大且有明显峰值时代表性较好"
   ]
  },
  {
   "cell_type": "code",
   "execution_count": null,
   "metadata": {},
   "outputs": [],
   "source": [
    "from IPython.core.display import Image, display\n",
    "display(Image(filename='figures/平均数中位数众数.png'))"
   ]
  },
  {
   "cell_type": "markdown",
   "metadata": {},
   "source": [
    "1. **差异的度量**"
   ]
  },
  {
   "cell_type": "markdown",
   "metadata": {},
   "source": [
    "**极差**\n",
    "- 一组数据的最大值与最小值之差\n",
    "- 离散程度的最简单测度值\n",
    "- 易受极端值影响\n",
    "- 未考虑数据的分布"
   ]
  },
  {
   "cell_type": "code",
   "execution_count": null,
   "metadata": {},
   "outputs": [],
   "source": [
    "ts.max() - ts.min()"
   ]
  },
  {
   "cell_type": "code",
   "execution_count": null,
   "metadata": {},
   "outputs": [],
   "source": [
    "#利用numpy中的ptp函数\n",
    "np.ptp(ts.get_values())"
   ]
  },
  {
   "cell_type": "markdown",
   "metadata": {},
   "source": [
    "**四分位差**\n",
    "- 也称为内距或四分间距\n",
    "- 上四分位数与下四分位数之差\n",
    "- 反映了中间50%数据的离散程度\n",
    "- 不受极端值的影响\n",
    "- 用于衡量中位数的代表性\n",
    "- 对数据整体分布考虑不全面"
   ]
  },
  {
   "cell_type": "code",
   "execution_count": null,
   "metadata": {},
   "outputs": [],
   "source": [
    "ts.quantile(0.75) - ts.quantile(0.25)"
   ]
  },
  {
   "cell_type": "markdown",
   "metadata": {},
   "source": [
    "**箱线图**\n",
    "- 箱线图中间的箱型一般由三根线组成，由下至上分别对应Q1，Q2，Q3；而箱型以外的上下两根线，分别对应最大值与最小值(不含离群点)\n",
    "\n",
    "- 箱线图一般用于展示数值型数据，有助于对数据的整体分布有只管了解，特别有利于对异常点（离群点）的观察。"
   ]
  },
  {
   "cell_type": "code",
   "execution_count": null,
   "metadata": {},
   "outputs": [],
   "source": [
    "ts.plot(kind = 'box')"
   ]
  },
  {
   "cell_type": "code",
   "execution_count": null,
   "metadata": {},
   "outputs": [],
   "source": [
    "sns.boxplot(ts)"
   ]
  },
  {
   "cell_type": "markdown",
   "metadata": {},
   "source": [
    "- 上相邻值为距离上内围栏的最接近值\n",
    "- 下相邻值为距离下内围栏的最接近值"
   ]
  },
  {
   "cell_type": "code",
   "execution_count": null,
   "metadata": {},
   "outputs": [],
   "source": [
    "display(Image(filename='figures/箱型图.png'))"
   ]
  },
  {
   "cell_type": "code",
   "execution_count": null,
   "metadata": {},
   "outputs": [],
   "source": [
    "display(Image(filename='figures/不同分布下的箱型图.png'))"
   ]
  },
  {
   "cell_type": "code",
   "execution_count": null,
   "metadata": {},
   "outputs": [],
   "source": [
    "df = pd.DataFrame(np.random.rand(10, 5), columns=['A', 'B', 'C', 'D', 'E'])\n",
    "df.head()"
   ]
  },
  {
   "cell_type": "code",
   "execution_count": null,
   "metadata": {},
   "outputs": [],
   "source": [
    "df.plot(kind = 'box')"
   ]
  },
  {
   "cell_type": "code",
   "execution_count": null,
   "metadata": {},
   "outputs": [],
   "source": [
    "df.plot(kind = 'box', vert = False)"
   ]
  },
  {
   "cell_type": "markdown",
   "metadata": {},
   "source": [
    "**方差**\n",
    "- 数据离散程度的最常用测度值：$s^2 = \\frac {\\sum_{i=1}^{n} \\quad(x_i-\\widetilde x)^2}{n-1}$\n",
    "- 反映各变量值与均值的平均差异"
   ]
  },
  {
   "cell_type": "code",
   "execution_count": null,
   "metadata": {},
   "outputs": [],
   "source": [
    "ts.var()"
   ]
  },
  {
   "cell_type": "markdown",
   "metadata": {},
   "source": [
    "**标准差**\n",
    "- $s = \\sqrt{\\frac {\\sum_{i=1}^{n} \\quad(x_i-\\widetilde x)^2}{n-1}}$"
   ]
  },
  {
   "cell_type": "code",
   "execution_count": null,
   "metadata": {},
   "outputs": [],
   "source": [
    "ts.std()"
   ]
  },
  {
   "cell_type": "markdown",
   "metadata": {},
   "source": [
    "标准差的**经验法则**(正态分布/一般对称分布)：\n",
    "- 约68%的数据在均值附近正负1个标准差内\n",
    "- 约95%的数据在均值附近正负2个标准差内\n",
    "- 约99%的数据在均值附近正负3个标准差内\n",
    "在正负3个标准差以外的数据，称为**离群点(outlier)**。\n",
    "\n",
    "**切比雪夫不等式**：对任意分布的一组数据，至少有(1-1/k^2)的数据落在正负k个标准差以内(k>1)。"
   ]
  },
  {
   "cell_type": "markdown",
   "metadata": {},
   "source": [
    "**标准分**：变量值与平均数的差除以标准差后的值，也称为**z分数**(z score)。\n",
    "\n",
    "标准分的计算公式为：\n",
    "$$z_i=\\frac{x_i-\\widetilde x}{s}$$"
   ]
  },
  {
   "cell_type": "code",
   "execution_count": null,
   "metadata": {},
   "outputs": [],
   "source": [
    "#标准分的计算\n",
    "std_ts = (ts-ts.mean())/ts.std()\n",
    "std_ts.head(10)"
   ]
  },
  {
   "cell_type": "markdown",
   "metadata": {},
   "source": [
    "标准分正态分布标准差为1，均值为0"
   ]
  },
  {
   "cell_type": "code",
   "execution_count": null,
   "metadata": {},
   "outputs": [],
   "source": [
    "std_ts.describe()"
   ]
  },
  {
   "cell_type": "markdown",
   "metadata": {},
   "source": [
    "**变异系数**(离散系数)：一组数据的标准差与该组数据均值之比。公式为：\n",
    "$$v_i=\\frac{s}{\\widetilde x}$$\n",
    "\n",
    "\n",
    "- 测度离散程度的相对统计量，是对数据相对离散程度的测度\n",
    "- 消除了数据水平高低和计量单位的影响\n",
    "- 用于对不同组别数据离散程度的比较（特别对均值差异较大的数据组）\n",
    "- 缺点，均值接近零时，剧烈扰动"
   ]
  },
  {
   "cell_type": "code",
   "execution_count": null,
   "metadata": {},
   "outputs": [],
   "source": [
    "ts.std()/ts.mean()"
   ]
  },
  {
   "cell_type": "markdown",
   "metadata": {},
   "source": [
    "**偏度**(Skewness)、偏态、偏态系数，是统计数据分布偏斜方向和程度的度量，是统计数据分布非对称程度的数字特征。正态分布的偏度为零。\n",
    "- $$E[\\frac{x-\\mu}{\\sigma}]^3$$\n",
    "- Skewness=0 分布形态与正态分布偏度相同\n",
    "- Skewness>0 正偏差数值较大，为正偏或右偏。长尾巴拖在右边。\n",
    "- Skewness<0 负偏差数值较大，为负偏或左偏。长尾巴拖在左边。\n",
    "\n",
    "**峰度**(Kurtosis)、峰态、峰态系数，是描述总体中所有取值分布形态陡缓程度的统计量。正态分布的峰度为3(或将计算得到的峰度-3，而使正态分布峰度为零的做法)。\n",
    "- $$E[\\frac{x-\\mu}{\\sigma}]^4-3$$\n",
    "- Kurtosis=3(或0) 分布形态与正态分布峰度相同\n",
    "- Kurtosis>3(或0) 正偏差数值较大，尖峰，厚尾。\n",
    "- Kurtosis<3(或0) 负偏差数值较大，扁峰，薄尾。"
   ]
  },
  {
   "cell_type": "code",
   "execution_count": null,
   "metadata": {},
   "outputs": [],
   "source": [
    "s_1 = Series(np.random.random(1000))\n",
    "s_2 = Series(np.random.randn(1000))"
   ]
  },
  {
   "cell_type": "code",
   "execution_count": null,
   "metadata": {},
   "outputs": [],
   "source": [
    "s_1.skew(), s_2.skew(), s_1.kurt(), s_2.kurt(),"
   ]
  },
  {
   "cell_type": "code",
   "execution_count": null,
   "metadata": {},
   "outputs": [],
   "source": [
    "s_1.plot(kind = 'kde')\n",
    "s_2.plot(kind = 'kde')"
   ]
  },
  {
   "cell_type": "markdown",
   "metadata": {},
   "source": [
    "- 两组两个变量间的关系"
   ]
  },
  {
   "cell_type": "code",
   "execution_count": null,
   "metadata": {},
   "outputs": [],
   "source": [
    "tdf = DataFrame({'a': ts, 'b': ts_2 ,'c':ts, 'd':ts+2})"
   ]
  },
  {
   "cell_type": "code",
   "execution_count": null,
   "metadata": {},
   "outputs": [],
   "source": [
    "tdf.head()"
   ]
  },
  {
   "cell_type": "code",
   "execution_count": null,
   "metadata": {},
   "outputs": [],
   "source": [
    "ax = tdf.plot(kind = 'scatter', x = 'a', y = 'b',color = 'r', label = 'group_1', marker = 'x', figsize = (8,6))\n",
    "tdf.plot(kind = 'scatter', x = 'c', y = 'd',color = 'b', label = 'group_2', ax = ax)"
   ]
  },
  {
   "cell_type": "markdown",
   "metadata": {},
   "source": [
    "- 多组变量间的关系"
   ]
  },
  {
   "cell_type": "code",
   "execution_count": null,
   "metadata": {},
   "outputs": [],
   "source": [
    "sns.pairplot(data=tdf)"
   ]
  },
  {
   "cell_type": "markdown",
   "metadata": {},
   "source": [
    "**协方差**\n",
    "- $$Cov(X,Y) = E(X - E(X))*E(Y-E(Y))$$\n",
    "- 协方差用于衡量两个变量的总体误差，表示的是两个变量总体误差的期望\n",
    "- 如果两个变量的变化趋势一致，也就是说如果其中一个大于自身的期望值时另外一个也大于自身的期望值，那么两个变量之间的协方差就是正值；如果两个变量的变化趋势相反，即其中一个变量大于自身的期望值时另外一个却小于自身的期望值，那么两个变量之间的协方差就是负值\n",
    "- 如果X与Y是统计独立的，那么二者之间的协方差就是0，但是反过来不一定成立"
   ]
  },
  {
   "cell_type": "code",
   "execution_count": null,
   "metadata": {},
   "outputs": [],
   "source": [
    "tdf.cov()"
   ]
  },
  {
   "cell_type": "markdown",
   "metadata": {},
   "source": [
    "**相关系数**\n",
    "- $$Corr(X, Y) = \\frac{Cor(X, Y)}{\\sqrt{Var(X)Var(Y)}}$$\n",
    "- 为了能准确的研究两个变量在变化过程中的相似程度，我们就要把变化幅度对协方差的影响，从协方差中剔除掉"
   ]
  },
  {
   "cell_type": "code",
   "execution_count": null,
   "metadata": {},
   "outputs": [],
   "source": [
    "tdf.corr()"
   ]
  },
  {
   "cell_type": "markdown",
   "metadata": {},
   "source": [
    "**课后可进一步复习与了解**\n",
    "- pandas：Series与DataFrame\n",
    "- seaborn绘图\n",
    "- matplotlib绘图\n",
    "- 统计量\n",
    "\n",
    "**作业：数据探索与可视化**\n",
    "- 数据：data = sns.load_dataset(\"iris\")\n",
    "- 做各种可视化探索及统计量统计，发现数据集中可能潜在的规律\n"
   ]
  },
  {
   "cell_type": "markdown",
   "metadata": {},
   "source": [
    "**附：利用pyecharts生成词云**\n",
    "\n",
    "**pyecharts官方网站有很多现成的例子**"
   ]
  },
  {
   "cell_type": "code",
   "execution_count": null,
   "metadata": {},
   "outputs": [],
   "source": [
    "import pyecharts.options as opts\n",
    "from pyecharts.charts import WordCloud\n",
    "\n",
    "\"\"\"\n",
    "Gallery 使用 pyecharts 1.1.0\n",
    "参考地址: https://gallery.echartsjs.com/editor.html?c=xS1jMxuOVm\n",
    "目前无法实现的功能:\n",
    "1、暂无\n",
    "\"\"\"\n",
    "\n",
    "data = [\n",
    "    (\"生活资源\", \"999\"),\n",
    "    (\"供热管理\", \"888\"),\n",
    "    (\"供气质量\", \"777\"),\n",
    "    (\"生活用水管理\", \"688\"),\n",
    "    (\"一次供水问题\", \"588\"),\n",
    "    (\"交通运输\", \"516\"),\n",
    "    (\"城市交通\", \"515\"),\n",
    "    (\"环境保护\", \"483\"),\n",
    "    (\"房地产管理\", \"462\"),\n",
    "    (\"城乡建设\", \"449\"),\n",
    "    (\"社会保障与福利\", \"429\"),\n",
    "    (\"社会保障\", \"407\"),\n",
    "    (\"文体与教育管理\", \"406\"),\n",
    "    (\"公共安全\", \"406\"),\n",
    "    (\"公交运输管理\", \"386\"),\n",
    "    (\"出租车运营管理\", \"385\"),\n",
    "    (\"供热管理\", \"375\"),\n",
    "    (\"市容环卫\", \"355\"),\n",
    "    (\"自然资源管理\", \"355\"),\n",
    "    (\"粉尘污染\", \"335\"),\n",
    "    (\"噪声污染\", \"324\"),\n",
    "    (\"土地资源管理\", \"304\"),\n",
    "    (\"物业服务与管理\", \"304\"),\n",
    "    (\"医疗卫生\", \"284\"),\n",
    "    (\"粉煤灰污染\", \"284\"),\n",
    "    (\"占道\", \"284\"),\n",
    "    (\"供热发展\", \"254\"),\n",
    "    (\"农村土地规划管理\", \"254\"),\n",
    "    (\"生活噪音\", \"253\"),\n",
    "    (\"供热单位影响\", \"253\"),\n",
    "    (\"城市供电\", \"223\"),\n",
    "    (\"房屋质量与安全\", \"223\"),\n",
    "    (\"大气污染\", \"223\"),\n",
    "    (\"房屋安全\", \"223\"),\n",
    "    (\"文化活动\", \"223\"),\n",
    "    (\"拆迁管理\", \"223\"),\n",
    "    (\"公共设施\", \"223\"),\n",
    "    (\"供气质量\", \"223\"),\n",
    "    (\"供电管理\", \"223\"),\n",
    "    (\"燃气管理\", \"152\"),\n",
    "    (\"教育管理\", \"152\"),\n",
    "    (\"医疗纠纷\", \"152\"),\n",
    "    (\"执法监督\", \"152\"),\n",
    "    (\"设备安全\", \"152\"),\n",
    "    (\"政务建设\", \"152\"),\n",
    "    (\"县区、开发区\", \"152\"),\n",
    "    (\"宏观经济\", \"152\"),\n",
    "    (\"教育管理\", \"112\"),\n",
    "    (\"社会保障\", \"112\"),\n",
    "    (\"生活用水管理\", \"112\"),\n",
    "    (\"物业服务与管理\", \"112\"),\n",
    "    (\"分类列表\", \"112\"),\n",
    "    (\"农业生产\", \"112\"),\n",
    "    (\"二次供水问题\", \"112\"),\n",
    "    (\"城市公共设施\", \"92\"),\n",
    "    (\"拆迁政策咨询\", \"92\"),\n",
    "    (\"物业服务\", \"92\"),\n",
    "    (\"物业管理\", \"92\"),\n",
    "    (\"社会保障保险管理\", \"92\"),\n",
    "    (\"低保管理\", \"92\"),\n",
    "    (\"文娱市场管理\", \"72\"),\n",
    "    (\"城市交通秩序管理\", \"72\"),\n",
    "    (\"执法争议\", \"72\"),\n",
    "    (\"商业烟尘污染\", \"72\"),\n",
    "    (\"占道堆放\", \"71\"),\n",
    "    (\"地上设施\", \"71\"),\n",
    "    (\"水质\", \"71\"),\n",
    "    (\"无水\", \"71\"),\n",
    "    (\"供热单位影响\", \"71\"),\n",
    "    (\"人行道管理\", \"71\"),\n",
    "    (\"主网原因\", \"71\"),\n",
    "    (\"集中供热\", \"71\"),\n",
    "    (\"客运管理\", \"71\"),\n",
    "    (\"国有公交（大巴）管理\", \"71\"),\n",
    "    (\"工业粉尘污染\", \"71\"),\n",
    "    (\"治安案件\", \"71\"),\n",
    "    (\"压力容器安全\", \"71\"),\n",
    "    (\"身份证管理\", \"71\"),\n",
    "    (\"群众健身\", \"41\"),\n",
    "    (\"工业排放污染\", \"41\"),\n",
    "    (\"破坏森林资源\", \"41\"),\n",
    "    (\"市场收费\", \"41\"),\n",
    "    (\"生产资金\", \"41\"),\n",
    "    (\"生产噪声\", \"41\"),\n",
    "    (\"农村低保\", \"41\"),\n",
    "    (\"劳动争议\", \"41\"),\n",
    "    (\"劳动合同争议\", \"41\"),\n",
    "    (\"劳动报酬与福利\", \"41\"),\n",
    "    (\"医疗事故\", \"21\"),\n",
    "    (\"停供\", \"21\"),\n",
    "    (\"基础教育\", \"21\"),\n",
    "    (\"职业教育\", \"21\"),\n",
    "    (\"物业资质管理\", \"21\"),\n",
    "    (\"拆迁补偿\", \"21\"),\n",
    "    (\"设施维护\", \"21\"),\n",
    "    (\"市场外溢\", \"11\"),\n",
    "    (\"占道经营\", \"11\"),\n",
    "    (\"树木管理\", \"11\"),\n",
    "    (\"农村基础设施\", \"11\"),\n",
    "    (\"无水\", \"11\"),\n",
    "    (\"供气质量\", \"11\"),\n",
    "    (\"停气\", \"11\"),\n",
    "    (\"市政府工作部门（含部门管理机构、直属单位）\", \"11\"),\n",
    "    (\"燃气管理\", \"11\"),\n",
    "    (\"市容环卫\", \"11\"),\n",
    "    (\"新闻传媒\", \"11\"),\n",
    "    (\"人才招聘\", \"11\"),\n",
    "    (\"市场环境\", \"11\"),\n",
    "    (\"行政事业收费\", \"11\"),\n",
    "    (\"食品安全与卫生\", \"11\"),\n",
    "    (\"城市交通\", \"11\"),\n",
    "    (\"房地产开发\", \"11\"),\n",
    "    (\"房屋配套问题\", \"11\"),\n",
    "    (\"物业服务\", \"11\"),\n",
    "    (\"物业管理\", \"11\"),\n",
    "    (\"占道\", \"11\"),\n",
    "    (\"园林绿化\", \"11\"),\n",
    "    (\"户籍管理及身份证\", \"11\"),\n",
    "    (\"公交运输管理\", \"11\"),\n",
    "    (\"公路（水路）交通\", \"11\"),\n",
    "    (\"房屋与图纸不符\", \"11\"),\n",
    "    (\"有线电视\", \"11\"),\n",
    "    (\"社会治安\", \"11\"),\n",
    "    (\"林业资源\", \"11\"),\n",
    "    (\"其他行政事业收费\", \"11\"),\n",
    "    (\"经营性收费\", \"11\"),\n",
    "    (\"食品安全与卫生\", \"11\"),\n",
    "    (\"体育活动\", \"11\"),\n",
    "    (\"有线电视安装及调试维护\", \"11\"),\n",
    "    (\"低保管理\", \"11\"),\n",
    "    (\"劳动争议\", \"11\"),\n",
    "    (\"社会福利及事务\", \"11\"),\n",
    "    (\"一次供水问题\", \"11\"),\n",
    "]\n",
    "\n",
    "\n",
    "(\n",
    "    WordCloud()\n",
    "    .add(series_name=\"热点分析\", data_pair=data, word_size_range=[6, 66])\n",
    "    .set_global_opts(\n",
    "        title_opts=opts.TitleOpts(\n",
    "            title=\"热点分析\", title_textstyle_opts=opts.TextStyleOpts(font_size=23)\n",
    "        ),\n",
    "        tooltip_opts=opts.TooltipOpts(is_show=True),\n",
    "    )\n",
    "    .render_notebook()\n",
    ")"
   ]
  },
  {
   "cell_type": "code",
   "execution_count": null,
   "metadata": {},
   "outputs": [],
   "source": []
  }
 ],
 "metadata": {
  "kernelspec": {
   "display_name": "Python 3",
   "language": "python",
   "name": "python3"
  },
  "language_info": {
   "codemirror_mode": {
    "name": "ipython",
    "version": 3
   },
   "file_extension": ".py",
   "mimetype": "text/x-python",
   "name": "python",
   "nbconvert_exporter": "python",
   "pygments_lexer": "ipython3",
   "version": "3.7.3"
  }
 },
 "nbformat": 4,
 "nbformat_minor": 2
}
